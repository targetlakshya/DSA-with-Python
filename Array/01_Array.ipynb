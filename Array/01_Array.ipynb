{
 "cells": [
  {
   "cell_type": "code",
   "execution_count": 28,
   "metadata": {},
   "outputs": [],
   "source": [
    "arr = [2,1,8,9,12,15,11,19]"
   ]
  },
  {
   "cell_type": "code",
   "execution_count": 29,
   "metadata": {},
   "outputs": [
    {
     "data": {
      "text/plain": [
       "12"
      ]
     },
     "execution_count": 29,
     "metadata": {},
     "output_type": "execute_result"
    }
   ],
   "source": [
    "## Random access\n",
    "\n",
    "arr[4]"
   ]
  },
  {
   "cell_type": "code",
   "execution_count": 30,
   "metadata": {},
   "outputs": [
    {
     "name": "stdout",
     "output_type": "stream",
     "text": [
      "Searching element is present at index 5\n"
     ]
    }
   ],
   "source": [
    "## Search for an element \"15\" and if it present in an array, return the index of that element\n",
    "# Suppose the searching element is not present in an array return (-1)\n",
    "# Time complexity of this algorithm is O(n)\n",
    "#  Space complexity of this algorithm is O(1)\n",
    "\n",
    "# Function definition\n",
    "\n",
    "def linear_search(arr, x):\n",
    "    for i in range(len(arr)):\n",
    "        if arr[i] == x :\n",
    "            return i\n",
    "    return -1\n",
    "\n",
    "#  Driver code\n",
    "\n",
    "arr = [2,1,8,9,12,15,11,15,19]\n",
    "x = 15\n",
    "# Function call\n",
    "linear_search(arr, x)\n",
    "result = linear_search(arr, x)\n",
    "print(\"Searching element is present at index\", result)\n",
    "\n"
   ]
  },
  {
   "cell_type": "code",
   "execution_count": 31,
   "metadata": {},
   "outputs": [],
   "source": [
    "#  Insert an element 5 at index 2\n",
    "# list.insert(index, element)\n",
    "# TIme complexity of this algorithm is O(n)\n",
    "\n",
    "arr.insert(2,44)\n"
   ]
  },
  {
   "cell_type": "code",
   "execution_count": 32,
   "metadata": {},
   "outputs": [
    {
     "data": {
      "text/plain": [
       "[2, 1, 44, 8, 9, 12, 15, 11, 15, 19]"
      ]
     },
     "execution_count": 32,
     "metadata": {},
     "output_type": "execute_result"
    }
   ],
   "source": [
    "arr"
   ]
  },
  {
   "cell_type": "code",
   "execution_count": 33,
   "metadata": {},
   "outputs": [],
   "source": [
    "# Reomve an element 11 from an array\n",
    "# Time complexity of this algorithm is O(n)\n",
    "arr.remove(11)"
   ]
  },
  {
   "cell_type": "code",
   "execution_count": 34,
   "metadata": {},
   "outputs": [
    {
     "data": {
      "text/plain": [
       "[2, 1, 44, 8, 9, 12, 15, 15, 19]"
      ]
     },
     "execution_count": 34,
     "metadata": {},
     "output_type": "execute_result"
    }
   ],
   "source": [
    "arr"
   ]
  },
  {
   "cell_type": "code",
   "execution_count": 35,
   "metadata": {},
   "outputs": [
    {
     "data": {
      "text/plain": [
       "2"
      ]
     },
     "execution_count": 35,
     "metadata": {},
     "output_type": "execute_result"
    }
   ],
   "source": [
    "# COunting for an element 15 in an array\n",
    "# Time complexity of this algorithm is O(n)\n",
    "arr.count(15)"
   ]
  },
  {
   "cell_type": "code",
   "execution_count": 36,
   "metadata": {},
   "outputs": [
    {
     "data": {
      "text/plain": [
       "44"
      ]
     },
     "execution_count": 36,
     "metadata": {},
     "output_type": "execute_result"
    }
   ],
   "source": [
    "# Permanentely delete an element from an array\n",
    "\n",
    "arr.pop(2)\n",
    "\n"
   ]
  },
  {
   "cell_type": "code",
   "execution_count": 37,
   "metadata": {},
   "outputs": [
    {
     "data": {
      "text/plain": [
       "[2, 1, 8, 9, 12, 15, 15, 19]"
      ]
     },
     "execution_count": 37,
     "metadata": {},
     "output_type": "execute_result"
    }
   ],
   "source": [
    "arr"
   ]
  },
  {
   "cell_type": "code",
   "execution_count": 38,
   "metadata": {},
   "outputs": [],
   "source": [
    "# Sort an array\n",
    "\n",
    "arr.sort()"
   ]
  },
  {
   "cell_type": "code",
   "execution_count": 39,
   "metadata": {},
   "outputs": [
    {
     "data": {
      "text/plain": [
       "[1, 2, 8, 9, 12, 15, 15, 19]"
      ]
     },
     "execution_count": 39,
     "metadata": {},
     "output_type": "execute_result"
    }
   ],
   "source": [
    "arr"
   ]
  },
  {
   "cell_type": "code",
   "execution_count": 40,
   "metadata": {},
   "outputs": [
    {
     "data": {
      "text/plain": [
       "5"
      ]
     },
     "execution_count": 40,
     "metadata": {},
     "output_type": "execute_result"
    }
   ],
   "source": [
    "# to extract the index of an element \n",
    "\n",
    "arr.index(15)"
   ]
  },
  {
   "cell_type": "code",
   "execution_count": 41,
   "metadata": {},
   "outputs": [],
   "source": [
    "# to Extend an original array \n",
    "arr.extend([55,7654,6543,8765])"
   ]
  },
  {
   "cell_type": "code",
   "execution_count": 42,
   "metadata": {},
   "outputs": [
    {
     "data": {
      "text/plain": [
       "[1, 2, 8, 9, 12, 15, 15, 19, 55, 7654, 6543, 8765]"
      ]
     },
     "execution_count": 42,
     "metadata": {},
     "output_type": "execute_result"
    }
   ],
   "source": [
    "arr"
   ]
  },
  {
   "cell_type": "code",
   "execution_count": 43,
   "metadata": {},
   "outputs": [],
   "source": [
    "# Reverse an array\n",
    "arr.reverse()"
   ]
  },
  {
   "cell_type": "code",
   "execution_count": 44,
   "metadata": {},
   "outputs": [
    {
     "data": {
      "text/plain": [
       "[8765, 6543, 7654, 55, 19, 15, 15, 12, 9, 8, 2, 1]"
      ]
     },
     "execution_count": 44,
     "metadata": {},
     "output_type": "execute_result"
    }
   ],
   "source": [
    "arr"
   ]
  },
  {
   "cell_type": "code",
   "execution_count": 3,
   "metadata": {},
   "outputs": [
    {
     "name": "stdout",
     "output_type": "stream",
     "text": [
      "Search element is in index no  3\n"
     ]
    }
   ],
   "source": [
    "# Binary Search\n",
    "\n",
    "def BinarySearch(arr,x,low,high):\n",
    "    mid = low + (high - low) // 2\n",
    "    if arr[mid] == x:\n",
    "        return mid\n",
    "    elif arr[mid] < x:\n",
    "        return BinarySearch(arr,x,mid+1,high)\n",
    "    elif arr[mid] > x:\n",
    "        return BinarySearch(arr,x,low,mid-1)\n",
    "\n",
    "arr = [2,4,6,10,12,25,32,43,50,55,66,74,90,100]\n",
    "x = 10\n",
    "result = BinarySearch(arr, x, low = 0, high = len(arr)-1)\n",
    "print(\"Search element is in index no \",result)"
   ]
  },
  {
   "cell_type": "code",
   "execution_count": 2,
   "metadata": {},
   "outputs": [
    {
     "name": "stdout",
     "output_type": "stream",
     "text": [
      "Search element is in index no  3\n"
     ]
    }
   ],
   "source": [
    "def BinarySearch(arr,x,i,j):\n",
    "    while i <= j:\n",
    "        mid = i + (j - i) // 2\n",
    "        if arr[mid] == x:\n",
    "            return mid\n",
    "        elif arr[mid] < x:\n",
    "            i = mid + 1\n",
    "        elif arr[mid] > x:\n",
    "            j = mid - 1\n",
    "\n",
    "arr = [2,4,6,10,12,25,32,43,50,55,66,74,90,100]\n",
    "x = 10\n",
    "i = 0\n",
    "j = len(arr)-1\n",
    "result = BinarySearch(arr, x, i, j)\n",
    "print(\"Search element is in index no \",result)"
   ]
  },
  {
   "cell_type": "code",
   "execution_count": 9,
   "metadata": {},
   "outputs": [
    {
     "name": "stdout",
     "output_type": "stream",
     "text": [
      "Position of first infinite element is  7\n"
     ]
    }
   ],
   "source": [
    "# We have a array of n elements and we have to find Position of first infinite element in the array\n",
    "\n",
    "arr = [20,-30,10,5,7,0,29,float('inf')]\n",
    "\n",
    "for i in range(len(arr)):\n",
    "    if arr[i] == float('inf'):\n",
    "        print(\"Position of first infinite element is \",i)\n",
    "        break\n"
   ]
  },
  {
   "cell_type": "code",
   "execution_count": 22,
   "metadata": {},
   "outputs": [
    {
     "name": "stdout",
     "output_type": "stream",
     "text": [
      "Position of first infinite element is 8\n"
     ]
    }
   ],
   "source": [
    "def binarySearch(arr, x, i, j):\n",
    "    while i <= j:\n",
    "        mid = i + (j - i) // 2\n",
    "        if arr[mid] == float('inf'):\n",
    "            if mid == 0 or arr[mid - 1] != float('inf'):\n",
    "                return mid\n",
    "            else:\n",
    "                j = mid - 1\n",
    "        elif arr[mid] < x:\n",
    "            i = mid + 1\n",
    "        else:\n",
    "            j = mid - 1\n",
    "    return -1\n",
    "\n",
    "arr = [20, -30, 10, 5, 7, 0, 29, 55, float('inf'), float('inf'), float('inf'), float('inf'), float('inf'), float('inf'), float('inf'), float('inf')]\n",
    "x = float('inf')    \n",
    "result = binarySearch(arr, x, 0, len(arr) - 1)\n",
    "print(\"Position of first infinite element is\", result)\n",
    "\n"
   ]
  },
  {
   "cell_type": "code",
   "execution_count": 10,
   "metadata": {},
   "outputs": [
    {
     "data": {
      "text/plain": [
       "[1, 2, 3, 5, 0]"
      ]
     },
     "execution_count": 10,
     "metadata": {},
     "output_type": "execute_result"
    }
   ],
   "source": [
    "# You are given a large integer represented as an integer array digits, where each digits[i] is the ith digit of the integer. The digits are ordered from most significant to least significant in left-to-right order. The large integer does not contain any leading 0's.\n",
    "\n",
    "# Increment the large integer by one and return the resulting array of digits.\n",
    "\n",
    "\n",
    "def plusOne( digits):\n",
    "        n = len(digits)\n",
    "        for i in range(n-1,-1,-1):\n",
    "            digits[i] += 1\n",
    "            if digits[i] < 10:\n",
    "                return digits\n",
    "            digits[i] = 0\n",
    "        return [1] + digits\n",
    "\n",
    "digits  = [1,2,3,4,10]\n",
    "plusOne(digits)\n",
    "\n",
    " "
   ]
  },
  {
   "cell_type": "code",
   "execution_count": 25,
   "metadata": {},
   "outputs": [
    {
     "name": "stdout",
     "output_type": "stream",
     "text": [
      "False\n"
     ]
    }
   ],
   "source": [
    "# Search in 2D array\n",
    "\n",
    "# Function Definition\n",
    "def Search_sorted_matrix(matrix, target) :\n",
    "    # Number of rows\n",
    "    m = len(matrix)\n",
    "    if m == 0:\n",
    "        return False\n",
    "    # Number of columns\n",
    "    n = len(matrix[0])\n",
    "\n",
    "    # Binary Search Implemetation\n",
    "    left, right = 0, m*m-1\n",
    "    while left <= right:\n",
    "        mid = (left + right) // 2\n",
    "        # Extracting the elements from the 2d array\n",
    "        # row_number = idx // n\n",
    "        # column_number = idx % n\n",
    "        mid_element = matrix[mid // n][mid % n]\n",
    "        if mid_element == target:\n",
    "            return True\n",
    "        elif target < mid_element:\n",
    "            right = mid - 1\n",
    "        else:\n",
    "            left = mid + 1\n",
    "    return False\n",
    "\n",
    "# Driver Code\n",
    "matrix = [[1,3,5,7],[10,11,16,20],[23,30,34,60]]\n",
    "target = 12\n",
    "# function calling\n",
    "result = Search_sorted_matrix(matrix, target)\n",
    "print(result)"
   ]
  },
  {
   "cell_type": "code",
   "execution_count": null,
   "metadata": {},
   "outputs": [],
   "source": []
  }
 ],
 "metadata": {
  "kernelspec": {
   "display_name": "Python 3",
   "language": "python",
   "name": "python3"
  },
  "language_info": {
   "codemirror_mode": {
    "name": "ipython",
    "version": 3
   },
   "file_extension": ".py",
   "mimetype": "text/x-python",
   "name": "python",
   "nbconvert_exporter": "python",
   "pygments_lexer": "ipython3",
   "version": "3.12.2"
  }
 },
 "nbformat": 4,
 "nbformat_minor": 2
}
